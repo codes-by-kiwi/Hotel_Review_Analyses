{
 "cells": [
  {
   "cell_type": "code",
   "execution_count": 332,
   "id": "a373c115",
   "metadata": {},
   "outputs": [],
   "source": [
    "#We are using the Boston AirBNB open data set from data.world available at:\n",
    "#    https://data.world/jerrys/boston-airbnb-open-data/workspace/file?filename=reviews.csv"
   ]
  },
  {
   "cell_type": "code",
   "execution_count": 333,
   "id": "342079fd",
   "metadata": {},
   "outputs": [
    {
     "name": "stderr",
     "output_type": "stream",
     "text": [
      "[nltk_data] Downloading package vader_lexicon to\n",
      "[nltk_data]     /Users/fizzausman/nltk_data...\n",
      "[nltk_data]   Package vader_lexicon is already up-to-date!\n"
     ]
    },
    {
     "data": {
      "text/plain": [
       "True"
      ]
     },
     "execution_count": 333,
     "metadata": {},
     "output_type": "execute_result"
    }
   ],
   "source": [
    "#pandas provides DataFrame that is used to write data from and to files.\n",
    "#it is also used to manipulate, filter and merge large datasets\n",
    "import pandas as pd\n",
    "\n",
    "#used for creating visualisations. it is used for basic plots and statistical plots \n",
    "import matplotlib.pyplot as plt\n",
    "\n",
    "#nltk comes with powerful text processing such as cleaning, stemmng, tokenization, etc\n",
    "import nltk\n",
    "from nltk.sentiment.vader import SentimentIntensityAnalyzer\n",
    "\n",
    "# the vader lexicon is typically used for text which has both negative and positive emotion - in particular, it is \n",
    "#used to quantify how much of a positive or negative emotion the text has and also the intensity of emotion\n",
    "\n",
    "nltk.download('vader_lexicon')"
   ]
  },
  {
   "cell_type": "markdown",
   "id": "080653f1",
   "metadata": {},
   "source": [
    "# IMPORTING DATA AND CLEANING TEXT"
   ]
  },
  {
   "cell_type": "code",
   "execution_count": 334,
   "id": "6aaff02a",
   "metadata": {},
   "outputs": [],
   "source": [
    "df = pd.read_csv('/Users/fizzausman/Desktop/reviewsdoc.csv')"
   ]
  },
  {
   "cell_type": "code",
   "execution_count": 335,
   "id": "385ea88e",
   "metadata": {},
   "outputs": [],
   "source": [
    "#since data is too big, we will be working with only first 300 rows\n",
    "df.head(300).to_csv('/Users/fizzausman/Desktop/reviewsdoc2.csv')\n",
    "df = pd.read_csv('/Users/fizzausman/Desktop/reviewsdoc2.csv')"
   ]
  },
  {
   "cell_type": "code",
   "execution_count": 336,
   "id": "c813f97b",
   "metadata": {},
   "outputs": [],
   "source": [
    "# over here there is adding of row_id field to the dataframe, which will be useful for joining later\n",
    "#row_id column is made by incrementing the in-built index field. \n",
    "#This row_id field serves as the unique key for this dataset to uniquely identify a row \n",
    "df[\"row_id\"] = df.index + 1"
   ]
  },
  {
   "cell_type": "code",
   "execution_count": 337,
   "id": "914183b4",
   "metadata": {},
   "outputs": [
    {
     "name": "stdout",
     "output_type": "stream",
     "text": [
      "   Unnamed: 0  listing_id       id        date  reviewer_id reviewer_name  \\\n",
      "0           0     1178162  4724140  2013-05-21      4298113       Olivier   \n",
      "1           1     1178162  4869189  2013-05-29      6452964     Charlotte   \n",
      "2           2     1178162  5003196  2013-06-06      6449554     Sebastian   \n",
      "3           3     1178162  5150351  2013-06-15      2215611        Marine   \n",
      "4           4     1178162  5171140  2013-06-16      6848427        Andrew   \n",
      "5           5     1178162  5198929  2013-06-17      6663826         Arndt   \n",
      "6           6     1178162  6702817  2013-08-21      8099222       Maurice   \n",
      "7           7     1178162  6873023  2013-08-28      7671888        Elodie   \n",
      "8           8     1178162  7646702  2013-09-28      8197342     Arkadiusz   \n",
      "9           9     1178162  8094418  2013-10-15      9040491       Matthew   \n",
      "\n",
      "                                            comments  row_id  \n",
      "0  My stay at islam's place was really cool! Good...       1  \n",
      "1  Great location for both airport and city - gre...       2  \n",
      "2  We really enjoyed our stay at Islams house. Fr...       3  \n",
      "3  The room was nice and clean and so were the co...       4  \n",
      "4  Great location. Just 5 mins walk from the Airp...       5  \n",
      "5  A truely exeptional place to stay. The hosts a...       6  \n",
      "6  It was a really nice time in Boston - best pla...       7  \n",
      "7  Islam is a very nice guy ! Attentive, funny, h...       8  \n",
      "8  The place is really well furnished, pleasant a...       9  \n",
      "9  Our stay at Islam's place was fantastic. We co...      10  \n"
     ]
    }
   ],
   "source": [
    "#print the first 10 rows\n",
    "print(df.head(10))"
   ]
  },
  {
   "cell_type": "code",
   "execution_count": 338,
   "id": "b61b30d2",
   "metadata": {},
   "outputs": [],
   "source": [
    "#take row_id and comments and place them into a new dataframe \n",
    "#this is the input required by the SentimentIntensityAnalyzer class\n",
    "\n",
    "df_subset = df[['row_id','comments']].copy()"
   ]
  },
  {
   "cell_type": "code",
   "execution_count": 339,
   "id": "7403c9d5",
   "metadata": {},
   "outputs": [
    {
     "data": {
      "text/html": [
       "<div>\n",
       "<style scoped>\n",
       "    .dataframe tbody tr th:only-of-type {\n",
       "        vertical-align: middle;\n",
       "    }\n",
       "\n",
       "    .dataframe tbody tr th {\n",
       "        vertical-align: top;\n",
       "    }\n",
       "\n",
       "    .dataframe thead th {\n",
       "        text-align: right;\n",
       "    }\n",
       "</style>\n",
       "<table border=\"1\" class=\"dataframe\">\n",
       "  <thead>\n",
       "    <tr style=\"text-align: right;\">\n",
       "      <th></th>\n",
       "      <th>row_id</th>\n",
       "      <th>comments</th>\n",
       "    </tr>\n",
       "  </thead>\n",
       "  <tbody>\n",
       "    <tr>\n",
       "      <th>0</th>\n",
       "      <td>1</td>\n",
       "      <td>My stay at islam's place was really cool! Good...</td>\n",
       "    </tr>\n",
       "    <tr>\n",
       "      <th>1</th>\n",
       "      <td>2</td>\n",
       "      <td>Great location for both airport and city - gre...</td>\n",
       "    </tr>\n",
       "    <tr>\n",
       "      <th>2</th>\n",
       "      <td>3</td>\n",
       "      <td>We really enjoyed our stay at Islams house. Fr...</td>\n",
       "    </tr>\n",
       "    <tr>\n",
       "      <th>3</th>\n",
       "      <td>4</td>\n",
       "      <td>The room was nice and clean and so were the co...</td>\n",
       "    </tr>\n",
       "    <tr>\n",
       "      <th>4</th>\n",
       "      <td>5</td>\n",
       "      <td>Great location. Just 5 mins walk from the Airp...</td>\n",
       "    </tr>\n",
       "    <tr>\n",
       "      <th>...</th>\n",
       "      <td>...</td>\n",
       "      <td>...</td>\n",
       "    </tr>\n",
       "    <tr>\n",
       "      <th>295</th>\n",
       "      <td>296</td>\n",
       "      <td>The apartment was as advertised. It was clean ...</td>\n",
       "    </tr>\n",
       "    <tr>\n",
       "      <th>296</th>\n",
       "      <td>297</td>\n",
       "      <td>Nice place in a lovely neighborhood. Dror and ...</td>\n",
       "    </tr>\n",
       "    <tr>\n",
       "      <th>297</th>\n",
       "      <td>298</td>\n",
       "      <td>We liked the apartment but not the three fligh...</td>\n",
       "    </tr>\n",
       "    <tr>\n",
       "      <th>298</th>\n",
       "      <td>299</td>\n",
       "      <td>Appartamento molto bello nel cuore del North E...</td>\n",
       "    </tr>\n",
       "    <tr>\n",
       "      <th>299</th>\n",
       "      <td>300</td>\n",
       "      <td>The location is great, with very nice Italian ...</td>\n",
       "    </tr>\n",
       "  </tbody>\n",
       "</table>\n",
       "<p>300 rows × 2 columns</p>\n",
       "</div>"
      ],
      "text/plain": [
       "     row_id                                           comments\n",
       "0         1  My stay at islam's place was really cool! Good...\n",
       "1         2  Great location for both airport and city - gre...\n",
       "2         3  We really enjoyed our stay at Islams house. Fr...\n",
       "3         4  The room was nice and clean and so were the co...\n",
       "4         5  Great location. Just 5 mins walk from the Airp...\n",
       "..      ...                                                ...\n",
       "295     296  The apartment was as advertised. It was clean ...\n",
       "296     297  Nice place in a lovely neighborhood. Dror and ...\n",
       "297     298  We liked the apartment but not the three fligh...\n",
       "298     299  Appartamento molto bello nel cuore del North E...\n",
       "299     300  The location is great, with very nice Italian ...\n",
       "\n",
       "[300 rows x 2 columns]"
      ]
     },
     "execution_count": 339,
     "metadata": {},
     "output_type": "execute_result"
    }
   ],
   "source": [
    "df_subset"
   ]
  },
  {
   "cell_type": "code",
   "execution_count": 340,
   "id": "803db09c",
   "metadata": {},
   "outputs": [
    {
     "name": "stderr",
     "output_type": "stream",
     "text": [
      "/var/folders/h3/mpj_h6hd1x1_sbmvhjc1v7jw0000gn/T/ipykernel_34986/4217497895.py:2: FutureWarning: The default value of regex will change from True to False in a future version.\n",
      "  df_subset['comments'] = df_subset['comments'].str.replace(\"[^a-zA-Z#]\", \" \")\n"
     ]
    }
   ],
   "source": [
    "#removing all the non-alphabets \n",
    "df_subset['comments'] = df_subset['comments'].str.replace(\"[^a-zA-Z#]\", \" \")"
   ]
  },
  {
   "cell_type": "code",
   "execution_count": 341,
   "id": "c9ec9af9",
   "metadata": {},
   "outputs": [
    {
     "data": {
      "text/html": [
       "<div>\n",
       "<style scoped>\n",
       "    .dataframe tbody tr th:only-of-type {\n",
       "        vertical-align: middle;\n",
       "    }\n",
       "\n",
       "    .dataframe tbody tr th {\n",
       "        vertical-align: top;\n",
       "    }\n",
       "\n",
       "    .dataframe thead th {\n",
       "        text-align: right;\n",
       "    }\n",
       "</style>\n",
       "<table border=\"1\" class=\"dataframe\">\n",
       "  <thead>\n",
       "    <tr style=\"text-align: right;\">\n",
       "      <th></th>\n",
       "      <th>row_id</th>\n",
       "      <th>comments</th>\n",
       "    </tr>\n",
       "  </thead>\n",
       "  <tbody>\n",
       "    <tr>\n",
       "      <th>0</th>\n",
       "      <td>1</td>\n",
       "      <td>My stay at islam s place was really cool  Good...</td>\n",
       "    </tr>\n",
       "    <tr>\n",
       "      <th>1</th>\n",
       "      <td>2</td>\n",
       "      <td>Great location for both airport and city   gre...</td>\n",
       "    </tr>\n",
       "    <tr>\n",
       "      <th>2</th>\n",
       "      <td>3</td>\n",
       "      <td>We really enjoyed our stay at Islams house  Fr...</td>\n",
       "    </tr>\n",
       "    <tr>\n",
       "      <th>3</th>\n",
       "      <td>4</td>\n",
       "      <td>The room was nice and clean and so were the co...</td>\n",
       "    </tr>\n",
       "    <tr>\n",
       "      <th>4</th>\n",
       "      <td>5</td>\n",
       "      <td>Great location  Just   mins walk from the Airp...</td>\n",
       "    </tr>\n",
       "    <tr>\n",
       "      <th>...</th>\n",
       "      <td>...</td>\n",
       "      <td>...</td>\n",
       "    </tr>\n",
       "    <tr>\n",
       "      <th>295</th>\n",
       "      <td>296</td>\n",
       "      <td>The apartment was as advertised  It was clean ...</td>\n",
       "    </tr>\n",
       "    <tr>\n",
       "      <th>296</th>\n",
       "      <td>297</td>\n",
       "      <td>Nice place in a lovely neighborhood  Dror and ...</td>\n",
       "    </tr>\n",
       "    <tr>\n",
       "      <th>297</th>\n",
       "      <td>298</td>\n",
       "      <td>We liked the apartment but not the three fligh...</td>\n",
       "    </tr>\n",
       "    <tr>\n",
       "      <th>298</th>\n",
       "      <td>299</td>\n",
       "      <td>Appartamento molto bello nel cuore del North E...</td>\n",
       "    </tr>\n",
       "    <tr>\n",
       "      <th>299</th>\n",
       "      <td>300</td>\n",
       "      <td>The location is great  with very nice Italian ...</td>\n",
       "    </tr>\n",
       "  </tbody>\n",
       "</table>\n",
       "<p>300 rows × 2 columns</p>\n",
       "</div>"
      ],
      "text/plain": [
       "     row_id                                           comments\n",
       "0         1  My stay at islam s place was really cool  Good...\n",
       "1         2  Great location for both airport and city   gre...\n",
       "2         3  We really enjoyed our stay at Islams house  Fr...\n",
       "3         4  The room was nice and clean and so were the co...\n",
       "4         5  Great location  Just   mins walk from the Airp...\n",
       "..      ...                                                ...\n",
       "295     296  The apartment was as advertised  It was clean ...\n",
       "296     297  Nice place in a lovely neighborhood  Dror and ...\n",
       "297     298  We liked the apartment but not the three fligh...\n",
       "298     299  Appartamento molto bello nel cuore del North E...\n",
       "299     300  The location is great  with very nice Italian ...\n",
       "\n",
       "[300 rows x 2 columns]"
      ]
     },
     "execution_count": 341,
     "metadata": {},
     "output_type": "execute_result"
    }
   ],
   "source": [
    "df_subset"
   ]
  },
  {
   "cell_type": "code",
   "execution_count": 342,
   "id": "cefeae61",
   "metadata": {},
   "outputs": [],
   "source": [
    "#convert to lower case\n",
    "#The casefold() method returns a string where all the characters are lower case.\n",
    "df_subset['comments']= df_subset['comments'].str.casefold()"
   ]
  },
  {
   "cell_type": "code",
   "execution_count": 343,
   "id": "973fbec3",
   "metadata": {},
   "outputs": [],
   "source": [
    "df_subset['comments'] = df_subset['comments'].apply(lambda comments: str(comments))\n"
   ]
  },
  {
   "cell_type": "code",
   "execution_count": 344,
   "id": "112eb084",
   "metadata": {},
   "outputs": [
    {
     "name": "stdout",
     "output_type": "stream",
     "text": [
      "   row_id                                           comments\n",
      "0       1  my stay at islam s place was really cool  good...\n",
      "1       2  great location for both airport and city   gre...\n",
      "2       3  we really enjoyed our stay at islams house  fr...\n",
      "3       4  the room was nice and clean and so were the co...\n",
      "4       5  great location  just   mins walk from the airp...\n",
      "5       6  a truely exeptional place to stay  the hosts a...\n",
      "6       7  it was a really nice time in boston   best pla...\n",
      "7       8  islam is a very nice guy   attentive  funny  h...\n",
      "8       9  the place is really well furnished  pleasant a...\n",
      "9      10  our stay at islam s place was fantastic  we co...\n"
     ]
    }
   ],
   "source": [
    "print(df_subset.head(10))"
   ]
  },
  {
   "cell_type": "markdown",
   "id": "5c060cd8",
   "metadata": {},
   "source": [
    "# Generate sentiment polarity scores\n",
    "\n"
   ]
  },
  {
   "cell_type": "code",
   "execution_count": 345,
   "id": "2926c5fa",
   "metadata": {},
   "outputs": [],
   "source": [
    "# polarity scores :-1 -0.9 -0.8 -0.7 -0.6 -0.5 -0.4 -0.3 -0.2 -0.1 0 0.1 0.2 0.3 0.4 0.5 0.6 0.7 0.8 0.9 1.0\n",
    "\n",
    "# polarity score between -1 to -0.5 --> negative sentiment\n",
    "# polarity score between -0.5 and +0.5 --> neutral sentiment\n",
    "# polarity score between +0.5 and 1 --> positive sentiment\n",
    "\n",
    "# creating an empty df to stage the output of SentimentIntensityAnalyzer.polarity_scores method\n",
    "#polarity_scores is a method which gives the following categories : positive, negative, neutral, compound\n",
    "df1=pd.DataFrame()\n",
    "\n"
   ]
  },
  {
   "cell_type": "code",
   "execution_count": 346,
   "id": "14ded536",
   "metadata": {},
   "outputs": [],
   "source": [
    "df1['row_id']=['99999999999']"
   ]
  },
  {
   "cell_type": "code",
   "execution_count": 347,
   "id": "c546ec5a",
   "metadata": {},
   "outputs": [],
   "source": [
    "df1['sentiment_type']='NA999NA'\n",
    "\n"
   ]
  },
  {
   "cell_type": "code",
   "execution_count": 348,
   "id": "dcd47b67",
   "metadata": {},
   "outputs": [],
   "source": [
    "df1['sentiment_score']=0\n",
    "\n"
   ]
  },
  {
   "cell_type": "code",
   "execution_count": 349,
   "id": "549f91a6",
   "metadata": {},
   "outputs": [
    {
     "name": "stdout",
     "output_type": "stream",
     "text": [
      "        row_id sentiment_type  sentiment_score\n",
      "0  99999999999        NA999NA                0\n"
     ]
    }
   ],
   "source": [
    "print(df1.head(1))\n",
    "\n"
   ]
  },
  {
   "cell_type": "code",
   "execution_count": 350,
   "id": "0c1ae16a",
   "metadata": {},
   "outputs": [
    {
     "name": "stdout",
     "output_type": "stream",
     "text": [
      "Sentiment analysis is in Motion...\n",
      "   row_id sentiment_type  sentiment_score\n",
      "0       1       compound           0.9390\n",
      "0       2       compound           0.9061\n",
      "0       3       compound           0.9650\n",
      "0       4       compound           0.9267\n",
      "0       5       compound           0.8658\n",
      "0       6       compound           0.8221\n",
      "0       7       compound           0.9923\n",
      "0       8       compound           0.9269\n",
      "0       9       compound           0.9758\n",
      "0      10       compound           0.9705\n",
      "0      11       compound           0.9807\n",
      "0      12       compound           0.9657\n",
      "0      13       compound          -0.2960\n",
      "0      14       compound           0.8834\n",
      "0      15       compound           0.9169\n",
      "0      16       compound           0.7876\n",
      "0      17       compound           0.9410\n",
      "0      18       compound           0.7845\n",
      "0      19       compound           0.8649\n",
      "0      20       compound           0.9825\n",
      "0      21       compound           0.1531\n",
      "0      22       compound           0.8519\n",
      "0      23       compound           0.9588\n",
      "0      24       compound           0.7783\n",
      "0      25       compound          -0.8338\n"
     ]
    }
   ],
   "source": [
    "# 1st for loop : iterate polarity_scores method over each row of df_subset\n",
    "# 2nd for loop : within the 1st for loop, used to assign sentiment polarity to each sentiment type to a substitute df\n",
    "\n",
    "#at the end of the for loop, clean the output df by removing dummy data and removing duplications. \n",
    "# we only keep rows for compound sentiment type because it gives accurate total polarity of a text : it sums up the pos, neg and neutral scores \n",
    "\n",
    "print('Sentiment analysis is in Motion...')\n",
    "\n",
    "sid = SentimentIntensityAnalyzer()\n",
    "t_df = df1\n",
    "for index, row in df_subset.iterrows():\n",
    "    scores = sid.polarity_scores(row[1])\n",
    "    for key, value in scores.items():\n",
    "        temp = [key,value,row[0]]\n",
    "        df1['row_id']=row[0]\n",
    "        df1['sentiment_type']=key\n",
    "        df1['sentiment_score']=value\n",
    "        t_df = pd.concat([t_df,df1])\n",
    "\n",
    "#remove dummy row with row_id = 99999999999\n",
    "t_df_cleaned = t_df[t_df.row_id != '99999999999']\n",
    "#remove duplicates if any exist\n",
    "t_df_cleaned = t_df_cleaned.drop_duplicates()\n",
    "# only keep rows where sentiment_type = compound\n",
    "t_df_cleaned = t_df[t_df.sentiment_type == 'compound']\n",
    "print(t_df_cleaned.head(25))"
   ]
  },
  {
   "cell_type": "markdown",
   "id": "dba671d0",
   "metadata": {},
   "source": [
    "# Merge t_df_cleaned with input dataframe df"
   ]
  },
  {
   "cell_type": "code",
   "execution_count": 351,
   "id": "9b6893c9",
   "metadata": {},
   "outputs": [
    {
     "name": "stdout",
     "output_type": "stream",
     "text": [
      "    Unnamed: 0  listing_id        id        date  reviewer_id  reviewer_name  \\\n",
      "0            0     1178162   4724140  2013-05-21      4298113        Olivier   \n",
      "1            1     1178162   4869189  2013-05-29      6452964      Charlotte   \n",
      "2            2     1178162   5003196  2013-06-06      6449554      Sebastian   \n",
      "3            3     1178162   5150351  2013-06-15      2215611         Marine   \n",
      "4            4     1178162   5171140  2013-06-16      6848427         Andrew   \n",
      "5            5     1178162   5198929  2013-06-17      6663826          Arndt   \n",
      "6            6     1178162   6702817  2013-08-21      8099222        Maurice   \n",
      "7            7     1178162   6873023  2013-08-28      7671888         Elodie   \n",
      "8            8     1178162   7646702  2013-09-28      8197342      Arkadiusz   \n",
      "9            9     1178162   8094418  2013-10-15      9040491        Matthew   \n",
      "10          10     1178162   8174594  2013-10-19      9101576         Simona   \n",
      "11          11     1178162   8226316  2013-10-21       884407        Laurent   \n",
      "12          12     1178162   8372308  2013-10-28      8837991     Olga Maria   \n",
      "13          13     1178162   8414572  2013-10-29       478275            Kat   \n",
      "14          14     1178162   8523707  2013-11-04      8824032           Ivan   \n",
      "15          15     1178162  11069185  2014-03-18     10454265        Jeffrey   \n",
      "16          16     1178162  11159232  2014-03-23      9798322      Alexander   \n",
      "17          17     1178162  11420562  2014-04-01      6097987     Karthikram   \n",
      "18          18     1178162  11696317  2014-04-12     13599868          Paola   \n",
      "19          19     1178162  11766427  2014-04-14      5064941            Joe   \n",
      "20          20     1178162  11901870  2014-04-18       578962          Samir   \n",
      "21          21     1178162  12116711  2014-04-23      5051049         Oliver   \n",
      "22          22     1178162  12168229  2014-04-24     14421460            Ron   \n",
      "23          23     1178162  12243132  2014-04-27     10018866        Crystal   \n",
      "24          24     1178162  12753057  2014-05-10     14113353          Chris   \n",
      "25          25     1178162  13186169  2014-05-21     14192408           Alex   \n",
      "26          26     1178162  13514415  2014-05-29     14007556            Ósk   \n",
      "27          27     1178162  13586652  2014-05-31       419353        Phillip   \n",
      "28          28     1178162  13801287  2014-06-04      1636024         Fukuko   \n",
      "29          29     1178162  14000401  2014-06-09     16307906          Amber   \n",
      "30          30     1178162  14849457  2014-06-27     17001205          Sarah   \n",
      "31          31     1178162  14934841  2014-06-29     16598717            New   \n",
      "32          32     1178162  15125674  2014-07-02     13007001            Ali   \n",
      "33          33     1178162  15430473  2014-07-08     13616703          Cyril   \n",
      "34          34     1178162  15648106  2014-07-13     17376849          Emily   \n",
      "35          35     1178162  15728913  2014-07-14     11524242           Mika   \n",
      "36          36     1178162  15846810  2014-07-16     17826223          Raija   \n",
      "37          37     1178162  15895093  2014-07-17     18020631          Lucas   \n",
      "38          38     1178162  15982012  2014-07-19      7543714     Anne-Marie   \n",
      "39          39     1178162  16035159  2014-07-20     17287987       Shu-Ping   \n",
      "40          40     1178162  16221436  2014-07-23      2420725        Jessica   \n",
      "41          41     1178162  16730352  2014-08-01      7012629        Claudia   \n",
      "42          42     1178162  16789257  2014-08-02     17832793          Lydia   \n",
      "43          43     1178162  17176912  2014-08-08       857238  Tim & Charlie   \n",
      "44          44     1178162  18437695  2014-08-26      2789022       Gianluca   \n",
      "45          45     1178162  18561737  2014-08-28     19310647          Tamas   \n",
      "46          46     1178162  18696958  2014-08-30     15346724        Stephen   \n",
      "47          47     1178162  19087737  2014-09-06     13609481          Sarah   \n",
      "48          48     1178162  19282278  2014-09-09     20036237          Chris   \n",
      "49          49     1178162  19617260  2014-09-15     20104957           Nora   \n",
      "\n",
      "                                             comments  row_id sentiment_type  \\\n",
      "0   My stay at islam's place was really cool! Good...       1       compound   \n",
      "1   Great location for both airport and city - gre...       2       compound   \n",
      "2   We really enjoyed our stay at Islams house. Fr...       3       compound   \n",
      "3   The room was nice and clean and so were the co...       4       compound   \n",
      "4   Great location. Just 5 mins walk from the Airp...       5       compound   \n",
      "5   A truely exeptional place to stay. The hosts a...       6       compound   \n",
      "6   It was a really nice time in Boston - best pla...       7       compound   \n",
      "7   Islam is a very nice guy ! Attentive, funny, h...       8       compound   \n",
      "8   The place is really well furnished, pleasant a...       9       compound   \n",
      "9   Our stay at Islam's place was fantastic. We co...      10       compound   \n",
      "10  Our stay at Islam's was very enjoyable, Islam ...      11       compound   \n",
      "11  Communication with Islam and his brother was g...      12       compound   \n",
      "12  Mi estadía en Boston aunque corta fue muy buen...      13       compound   \n",
      "13  Well sized room for two people with the basic ...      14       compound   \n",
      "14  GREAT SPACE, PERFECT LOCATION, AWESOME PEOPLE!...      15       compound   \n",
      "15  The room was exactly as pictured, no frills, y...      16       compound   \n",
      "16  The room was clean and very comfortable. Havin...      17       compound   \n",
      "17  Izzy was great... had clear instructions and n...      18       compound   \n",
      "18  The place was really good, it is like 10 minut...      19       compound   \n",
      "19  The host wasn't there, but it was fine. He lef...      20       compound   \n",
      "20  Izzy was a nice and helpful host with detailed...      21       compound   \n",
      "21  We arrived late from the airport, so the locat...      22       compound   \n",
      "22  Izzy was quick to reply to our request, and pr...      23       compound   \n",
      "23  Everything is exactly as posted! super conveni...      24       compound   \n",
      "24  We didn´t meet Izzy at all!!!! After we arrive...      25       compound   \n",
      "25  I didn't get a chance to meet Izzy but I thoug...      26       compound   \n",
      "26  Izzy's assistant was a nice and helpful person...      27       compound   \n",
      "27  Host wasn't there, but instructions were clear...      28       compound   \n",
      "28  Izzy's place was very convenient for getting t...      29       compound   \n",
      "29  Well we were kind of annoyed to be honest. We ...      30       compound   \n",
      "30  We never met our host, but they were willing t...      31       compound   \n",
      "31  It was a great place to stay. Quiet, clean and...      32       compound   \n",
      "32  Overall a pleasing experience.  We flew into B...      33       compound   \n",
      "33  Boston is one of the best city's I have ever b...      34       compound   \n",
      "34  Clear directions.  Good neighborhood. Close to...      35       compound   \n",
      "35  The host actually gave us a place to sleep. It...      36       compound   \n",
      "36  OK stay.  Perhaps best for those on the young/...      37       compound   \n",
      "37  Izzy was very helpful with directions and he w...      38       compound   \n",
      "38  This was ok it was easy with clear information...      39       compound   \n",
      "39  Izzy was out of the town when I stayed there. ...      40       compound   \n",
      "40  Unfortunately, we can't agree with the many po...      41       compound   \n",
      "41  East Boston is very nice place, well connected...      42       compound   \n",
      "42  We arrived late and left early in the morning ...      43       compound   \n",
      "43  Izzy's room is a great value for an airport re...      44       compound   \n",
      "44   Had a good experience overall. Short and sweet.       45       compound   \n",
      "45  It was a pleasant stay although we didn't meet...      46       compound   \n",
      "46  Izzy's home is conveniently located for anyone...      47       compound   \n",
      "47  Izzy's listing was as described, the room was ...      48       compound   \n",
      "48  It has a quiet, convenient and safe environmen...      49       compound   \n",
      "49  We had a great Time in Boston! We really enjoy...      50       compound   \n",
      "\n",
      "    sentiment_score  \n",
      "0            0.9390  \n",
      "1            0.9061  \n",
      "2            0.9650  \n",
      "3            0.9267  \n",
      "4            0.8658  \n",
      "5            0.8221  \n",
      "6            0.9923  \n",
      "7            0.9269  \n",
      "8            0.9758  \n",
      "9            0.9705  \n",
      "10           0.9807  \n",
      "11           0.9657  \n",
      "12          -0.2960  \n",
      "13           0.8834  \n",
      "14           0.9169  \n",
      "15           0.7876  \n",
      "16           0.9410  \n",
      "17           0.7845  \n",
      "18           0.8649  \n",
      "19           0.9825  \n",
      "20           0.1531  \n",
      "21           0.8519  \n",
      "22           0.9588  \n",
      "23           0.7783  \n",
      "24          -0.8338  \n",
      "25           0.9814  \n",
      "26           0.8660  \n",
      "27           0.8047  \n",
      "28           0.9493  \n",
      "29           0.1952  \n",
      "30           0.8246  \n",
      "31           0.8519  \n",
      "32           0.8074  \n",
      "33           0.9081  \n",
      "34           0.8979  \n",
      "35           0.5994  \n",
      "36           0.6589  \n",
      "37           0.9703  \n",
      "38           0.7880  \n",
      "39           0.7579  \n",
      "40           0.9939  \n",
      "41           0.9473  \n",
      "42           0.9517  \n",
      "43           0.9459  \n",
      "44           0.7096  \n",
      "45           0.8934  \n",
      "46           0.2500  \n",
      "47           0.8952  \n",
      "48           0.9109  \n",
      "49           0.9623  \n"
     ]
    }
   ],
   "source": [
    "#simple inner join on row_id\n",
    "# resulting table should have listing_id, id, date, reviewer_id, reviewer_name, comments, row_id, sentiment_type, sentiment_score\n",
    "\n",
    "df_output = pd.merge(df, t_df_cleaned, on='row_id', how='inner')\n",
    "print(df_output.head(50))\n"
   ]
  },
  {
   "cell_type": "code",
   "execution_count": 352,
   "id": "e6b9e307",
   "metadata": {},
   "outputs": [
    {
     "data": {
      "text/html": [
       "<div>\n",
       "<style scoped>\n",
       "    .dataframe tbody tr th:only-of-type {\n",
       "        vertical-align: middle;\n",
       "    }\n",
       "\n",
       "    .dataframe tbody tr th {\n",
       "        vertical-align: top;\n",
       "    }\n",
       "\n",
       "    .dataframe thead th {\n",
       "        text-align: right;\n",
       "    }\n",
       "</style>\n",
       "<table border=\"1\" class=\"dataframe\">\n",
       "  <thead>\n",
       "    <tr style=\"text-align: right;\">\n",
       "      <th></th>\n",
       "      <th>sentiment_score</th>\n",
       "    </tr>\n",
       "  </thead>\n",
       "  <tbody>\n",
       "    <tr>\n",
       "      <th>count</th>\n",
       "      <td>300.000000</td>\n",
       "    </tr>\n",
       "    <tr>\n",
       "      <th>mean</th>\n",
       "      <td>0.785833</td>\n",
       "    </tr>\n",
       "    <tr>\n",
       "      <th>std</th>\n",
       "      <td>0.318344</td>\n",
       "    </tr>\n",
       "    <tr>\n",
       "      <th>min</th>\n",
       "      <td>-0.943100</td>\n",
       "    </tr>\n",
       "    <tr>\n",
       "      <th>25%</th>\n",
       "      <td>0.796300</td>\n",
       "    </tr>\n",
       "    <tr>\n",
       "      <th>50%</th>\n",
       "      <td>0.909850</td>\n",
       "    </tr>\n",
       "    <tr>\n",
       "      <th>75%</th>\n",
       "      <td>0.964850</td>\n",
       "    </tr>\n",
       "    <tr>\n",
       "      <th>max</th>\n",
       "      <td>0.994700</td>\n",
       "    </tr>\n",
       "  </tbody>\n",
       "</table>\n",
       "</div>"
      ],
      "text/plain": [
       "       sentiment_score\n",
       "count       300.000000\n",
       "mean          0.785833\n",
       "std           0.318344\n",
       "min          -0.943100\n",
       "25%           0.796300\n",
       "50%           0.909850\n",
       "75%           0.964850\n",
       "max           0.994700"
      ]
     },
     "execution_count": 352,
     "metadata": {},
     "output_type": "execute_result"
    }
   ],
   "source": [
    "#summary stats of sentiment_score\n",
    "# min value is -0.984300 which tells that polarity of the most negative comment is strongly negative\n",
    "# max value is 0.995900 which tells that polarity of the most positive comment is highly positive\n",
    "# we can see that the intensity of the most positive comment is slightly higher than the intensity of the most negative comment\n",
    "\n",
    "# The mean value is +0.764561 which indicates the average polarity or intensity of sentiment across all comments is in the positive territory.\n",
    "df_output[[\"sentiment_score\"]].describe()"
   ]
  },
  {
   "cell_type": "code",
   "execution_count": 353,
   "id": "d8e7e920",
   "metadata": {},
   "outputs": [
    {
     "data": {
      "text/plain": [
       "<AxesSubplot:title={'center':'Sentiment Score'}, xlabel='listing_id', ylabel='Mean Sentiment Score'>"
      ]
     },
     "execution_count": 353,
     "metadata": {},
     "output_type": "execute_result"
    },
    {
     "data": {
      "image/png": "[encoded data removed]",
      "text/plain": [
       "<Figure size 720x720 with 1 Axes>"
      ]
     },
     "metadata": {
      "needs_background": "light"
     },
     "output_type": "display_data"
    }
   ],
   "source": [
    "# use matplotlib to create charts to analyze sentiment scores by listing_id\n",
    "# need to identify how mean sentiment score changes over the listings. \n",
    "# keep listing_id on x axis and mean sentiment score on y axis\n",
    "\n",
    "#generate mean of sentiment_score by period\n",
    "dfg = df_output.groupby(['listing_id'])['sentiment_score'].mean()\n",
    "\n",
    "#create a bar plot - figsize is the width and height of figure in inches \n",
    "\n",
    "dfg.plot(kind='bar', title='Sentiment Score', ylabel='Mean Sentiment Score',xlabel='listing_id', figsize=(10, 10))"
   ]
  },
  {
   "cell_type": "code",
   "execution_count": 354,
   "id": "a5854163",
   "metadata": {},
   "outputs": [],
   "source": [
    "#This bar plot shows the mean sentiment score across reviewers for specific listings\n",
    "\n",
    "#important observations:\n",
    "#1. the score was almost the same for listings 1178162 and 4573458\n",
    "#2. the highest score was for the listing 13658522\n",
    "#3. the lowest score was for listing 1178162\n",
    "#4. listings usually had scores above 0.5 indicating positive sentiment towards their services\n",
    "#5. there was no drastic variability between listing sentiments\n",
    "\n",
    "\n",
    "# The listing with the highest score could indicate that there are some hospitality standards or policies underway \n",
    "# there that customers really appreciate. It could be used to compare the services available at \n",
    "# different AIRBNBs and their effectiveness. \n",
    "\n",
    "#we need to make a boxplot - to study the spread and center of numerical data\n",
    "# seaborn is used to create boxplot\n"
   ]
  },
  {
   "cell_type": "code",
   "execution_count": 355,
   "id": "c4c3be96",
   "metadata": {},
   "outputs": [
    {
     "data": {
      "text/plain": [
       "(array([0, 1, 2, 3, 4, 5, 6, 7]),\n",
       " [Text(0, 0, '1178162'),\n",
       "  Text(1, 0, '1365335'),\n",
       "  Text(2, 0, '4573458'),\n",
       "  Text(3, 0, '7246272'),\n",
       "  Text(4, 0, '9364092'),\n",
       "  Text(5, 0, '9610609'),\n",
       "  Text(6, 0, '12069214'),\n",
       "  Text(7, 0, '13658522')])"
      ]
     },
     "execution_count": 355,
     "metadata": {},
     "output_type": "execute_result"
    },
    {
     "data": {
      "image/png": "[encoded data removed]",
      "text/plain": [
       "<Figure size 432x288 with 1 Axes>"
      ]
     },
     "metadata": {
      "needs_background": "light"
     },
     "output_type": "display_data"
    }
   ],
   "source": [
    "import seaborn as sns\n",
    "#create seaborn boxplots by listings\n",
    "sns.boxplot(x='listing_id', y='sentiment_score', notch = True,\n",
    "            data=df_output, showfliers=False).set(title='Sentiment Score by Listing')\n",
    "#modify axis labels\n",
    "plt.xlabel('listing_id')\n",
    "plt.ylabel('Sentiment Score')\n",
    "plt.xticks(rotation=90)"
   ]
  },
  {
   "cell_type": "code",
   "execution_count": 356,
   "id": "b3cbdf21",
   "metadata": {},
   "outputs": [],
   "source": [
    "#The box for listing 1178162 is the tallest box, which indicates a wider spread in the sentiment scores of comments from the reviewers. This spread is a sign of polarization within the reviewer's opinions, which means some reviewers feel strongly positive about the AIRBNB while others feel strongly negative. \n",
    "#The manager of this listing might be able to use this deep-dive insight, along with their knowledge of the services provided at the AIRBNB, to identify and possibly address any concerns impacting their hotel’s standards.\n",
    "\n",
    "#The box for listing 9364092 is shortest, indicating a narrow spread of sentiment scores, which means most reviewers feel the same way about the AIRBNB. The notch indicates a median value of sentiment scores for this listing is around 0.97, which is strongly positive."
   ]
  },
  {
   "cell_type": "code",
   "execution_count": null,
   "id": "c38563a5",
   "metadata": {},
   "outputs": [],
   "source": []
  }
 ],
 "metadata": {
  "kernelspec": {
   "display_name": "Python 3 (ipykernel)",
   "language": "python",
   "name": "python3"
  },
  "language_info": {
   "codemirror_mode": {
    "name": "ipython",
    "version": 3
   },
   "file_extension": ".py",
   "mimetype": "text/x-python",
   "name": "python",
   "nbconvert_exporter": "python",
   "pygments_lexer": "ipython3",
   "version": "3.9.12"
  }
 },
 "nbformat": 4,
 "nbformat_minor": 5
}
